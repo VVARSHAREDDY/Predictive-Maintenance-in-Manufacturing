{
 "cells": [
  {
   "cell_type": "code",
   "execution_count": 30,
   "id": "00853071",
   "metadata": {
    "execution": {
     "iopub.execute_input": "2025-02-18T15:36:10.002552Z",
     "iopub.status.busy": "2025-02-18T15:36:10.002186Z",
     "iopub.status.idle": "2025-02-18T15:36:11.745066Z",
     "shell.execute_reply": "2025-02-18T15:36:11.743481Z"
    },
    "papermill": {
     "duration": 1.752231,
     "end_time": "2025-02-18T15:36:11.746980",
     "exception": false,
     "start_time": "2025-02-18T15:36:09.994749",
     "status": "completed"
    },
    "tags": []
   },
   "outputs": [
    {
     "name": "stdout",
     "output_type": "stream",
     "text": [
      "                             unit    time  sensor_1  sensor_2  sensor_3  \\\n",
      "1 1 -0.0007 -0.0004 100.0  518.67  641.82   1589.70   1400.60     14.62   \n",
      "  2  0.0019 -0.0003 100.0  518.67  642.15   1591.82   1403.14     14.62   \n",
      "  3 -0.0043  0.0003 100.0  518.67  642.35   1587.99   1404.20     14.62   \n",
      "  4  0.0007  0.0000 100.0  518.67  642.35   1582.79   1401.87     14.62   \n",
      "  5 -0.0019 -0.0002 100.0  518.67  642.37   1582.85   1406.22     14.62   \n",
      "\n",
      "                           sensor_4  sensor_5  sensor_6  sensor_7  sensor_8  \\\n",
      "1 1 -0.0007 -0.0004 100.0     21.61    554.36   2388.06   9046.19       1.3   \n",
      "  2  0.0019 -0.0003 100.0     21.61    553.75   2388.04   9044.07       1.3   \n",
      "  3 -0.0043  0.0003 100.0     21.61    554.26   2388.08   9052.94       1.3   \n",
      "  4  0.0007  0.0000 100.0     21.61    554.45   2388.11   9049.48       1.3   \n",
      "  5 -0.0019 -0.0002 100.0     21.61    554.00   2388.06   9055.15       1.3   \n",
      "\n",
      "                           ...  sensor_12  sensor_13  sensor_14  sensor_15  \\\n",
      "1 1 -0.0007 -0.0004 100.0  ...    8138.62     8.4195       0.03        392   \n",
      "  2  0.0019 -0.0003 100.0  ...    8131.49     8.4318       0.03        392   \n",
      "  3 -0.0043  0.0003 100.0  ...    8133.23     8.4178       0.03        390   \n",
      "  4  0.0007  0.0000 100.0  ...    8133.83     8.3682       0.03        392   \n",
      "  5 -0.0019 -0.0002 100.0  ...    8133.80     8.4294       0.03        393   \n",
      "\n",
      "                           sensor_16  sensor_17  sensor_18  sensor_19  \\\n",
      "1 1 -0.0007 -0.0004 100.0       2388      100.0      39.06    23.4190   \n",
      "  2  0.0019 -0.0003 100.0       2388      100.0      39.00    23.4236   \n",
      "  3 -0.0043  0.0003 100.0       2388      100.0      38.95    23.3442   \n",
      "  4  0.0007  0.0000 100.0       2388      100.0      38.88    23.3739   \n",
      "  5 -0.0019 -0.0002 100.0       2388      100.0      38.90    23.4044   \n",
      "\n",
      "                           sensor_20  sensor_21  \n",
      "1 1 -0.0007 -0.0004 100.0        NaN        NaN  \n",
      "  2  0.0019 -0.0003 100.0        NaN        NaN  \n",
      "  3 -0.0043  0.0003 100.0        NaN        NaN  \n",
      "  4  0.0007  0.0000 100.0        NaN        NaN  \n",
      "  5 -0.0019 -0.0002 100.0        NaN        NaN  \n",
      "\n",
      "[5 rows x 23 columns]\n",
      "                             unit    time  sensor_1  sensor_2  sensor_3  \\\n",
      "1 1  0.0023  0.0003 100.0  518.67  643.02   1585.29   1398.21     14.62   \n",
      "  2 -0.0027 -0.0003 100.0  518.67  641.71   1588.45   1395.42     14.62   \n",
      "  3  0.0003  0.0001 100.0  518.67  642.46   1586.94   1401.34     14.62   \n",
      "  4  0.0042  0.0000 100.0  518.67  642.44   1584.12   1406.42     14.62   \n",
      "  5  0.0014  0.0000 100.0  518.67  642.51   1587.19   1401.92     14.62   \n",
      "\n",
      "                           sensor_4  sensor_5  sensor_6  sensor_7  sensor_8  \\\n",
      "1 1  0.0023  0.0003 100.0     21.61    553.90   2388.04   9050.17       1.3   \n",
      "  2 -0.0027 -0.0003 100.0     21.61    554.85   2388.01   9054.42       1.3   \n",
      "  3  0.0003  0.0001 100.0     21.61    554.11   2388.05   9056.96       1.3   \n",
      "  4  0.0042  0.0000 100.0     21.61    554.07   2388.03   9045.29       1.3   \n",
      "  5  0.0014  0.0000 100.0     21.61    554.16   2388.01   9044.55       1.3   \n",
      "\n",
      "                           ...  sensor_12  sensor_13  sensor_14  sensor_15  \\\n",
      "1 1  0.0023  0.0003 100.0  ...    8125.55     8.4052       0.03        392   \n",
      "  2 -0.0027 -0.0003 100.0  ...    8139.62     8.3803       0.03        393   \n",
      "  3  0.0003  0.0001 100.0  ...    8130.10     8.4441       0.03        393   \n",
      "  4  0.0042  0.0000 100.0  ...    8132.90     8.3917       0.03        391   \n",
      "  5  0.0014  0.0000 100.0  ...    8129.54     8.4031       0.03        390   \n",
      "\n",
      "                           sensor_16  sensor_17  sensor_18  sensor_19  \\\n",
      "1 1  0.0023  0.0003 100.0       2388      100.0      38.86    23.3735   \n",
      "  2 -0.0027 -0.0003 100.0       2388      100.0      39.02    23.3916   \n",
      "  3  0.0003  0.0001 100.0       2388      100.0      39.08    23.4166   \n",
      "  4  0.0042  0.0000 100.0       2388      100.0      39.00    23.3737   \n",
      "  5  0.0014  0.0000 100.0       2388      100.0      38.99    23.4130   \n",
      "\n",
      "                           sensor_20  sensor_21  \n",
      "1 1  0.0023  0.0003 100.0        NaN        NaN  \n",
      "  2 -0.0027 -0.0003 100.0        NaN        NaN  \n",
      "  3  0.0003  0.0001 100.0        NaN        NaN  \n",
      "  4  0.0042  0.0000 100.0        NaN        NaN  \n",
      "  5  0.0014  0.0000 100.0        NaN        NaN  \n",
      "\n",
      "[5 rows x 23 columns]\n"
     ]
    }
   ],
   "source": [
    "import pandas as pd\n",
    "import numpy as np\n",
    "import warnings\n",
    "warnings.filterwarnings(\"ignore\")\n",
    "\n",
    "# Load data\n",
    "train_path = \"train_FD001.txt\"\n",
    "test_path = \"test_FD001.txt\"\n",
    "rul_path = \"RUL_FD001.txt\"\n",
    "\n",
    "# Set fixed column names\n",
    "column_names = ['unit', 'time'] + [f'sensor_{i}' for i in range(1, 22)]\n",
    "\n",
    "# Read data files\n",
    "train_data = pd.read_csv(train_path, sep=\" \", header=None, names=column_names, engine='python')\n",
    "test_data = pd.read_csv(test_path, sep=\" \", header=None, names=column_names, engine='python')\n",
    "rul_data = pd.read_csv(rul_path, header=None, names=['RUL'])\n",
    "\n",
    "# Display the first few rows of the data to check its structure\n",
    "print(train_data.head())\n",
    "print(test_data.head())\n"
   ]
  },
  {
   "cell_type": "code",
   "execution_count": 31,
   "id": "357729e0",
   "metadata": {
    "execution": {
     "iopub.execute_input": "2025-02-18T15:36:11.761832Z",
     "iopub.status.busy": "2025-02-18T15:36:11.761446Z",
     "iopub.status.idle": "2025-02-18T15:36:11.783818Z",
     "shell.execute_reply": "2025-02-18T15:36:11.782363Z"
    },
    "papermill": {
     "duration": 0.031671,
     "end_time": "2025-02-18T15:36:11.785509",
     "exception": false,
     "start_time": "2025-02-18T15:36:11.753838",
     "status": "completed"
    },
    "tags": []
   },
   "outputs": [
    {
     "name": "stdout",
     "output_type": "stream",
     "text": [
      "                             unit    time  sensor_1  sensor_2  sensor_3  \\\n",
      "1 1 -0.0007 -0.0004 100.0  518.67  641.82   1589.70   1400.60     14.62   \n",
      "  2  0.0019 -0.0003 100.0  518.67  642.15   1591.82   1403.14     14.62   \n",
      "  3 -0.0043  0.0003 100.0  518.67  642.35   1587.99   1404.20     14.62   \n",
      "  4  0.0007  0.0000 100.0  518.67  642.35   1582.79   1401.87     14.62   \n",
      "  5 -0.0019 -0.0002 100.0  518.67  642.37   1582.85   1406.22     14.62   \n",
      "\n",
      "                           sensor_4  sensor_5  sensor_6  sensor_7  sensor_8  \\\n",
      "1 1 -0.0007 -0.0004 100.0     21.61    554.36   2388.06   9046.19       1.3   \n",
      "  2  0.0019 -0.0003 100.0     21.61    553.75   2388.04   9044.07       1.3   \n",
      "  3 -0.0043  0.0003 100.0     21.61    554.26   2388.08   9052.94       1.3   \n",
      "  4  0.0007  0.0000 100.0     21.61    554.45   2388.11   9049.48       1.3   \n",
      "  5 -0.0019 -0.0002 100.0     21.61    554.00   2388.06   9055.15       1.3   \n",
      "\n",
      "                           ...  sensor_10  sensor_11  sensor_12  sensor_13  \\\n",
      "1 1 -0.0007 -0.0004 100.0  ...     521.66    2388.02    8138.62     8.4195   \n",
      "  2  0.0019 -0.0003 100.0  ...     522.28    2388.07    8131.49     8.4318   \n",
      "  3 -0.0043  0.0003 100.0  ...     522.42    2388.03    8133.23     8.4178   \n",
      "  4  0.0007  0.0000 100.0  ...     522.86    2388.08    8133.83     8.3682   \n",
      "  5 -0.0019 -0.0002 100.0  ...     522.19    2388.04    8133.80     8.4294   \n",
      "\n",
      "                           sensor_14  sensor_15  sensor_16  sensor_17  \\\n",
      "1 1 -0.0007 -0.0004 100.0       0.03        392       2388      100.0   \n",
      "  2  0.0019 -0.0003 100.0       0.03        392       2388      100.0   \n",
      "  3 -0.0043  0.0003 100.0       0.03        390       2388      100.0   \n",
      "  4  0.0007  0.0000 100.0       0.03        392       2388      100.0   \n",
      "  5 -0.0019 -0.0002 100.0       0.03        393       2388      100.0   \n",
      "\n",
      "                           sensor_18  sensor_19  \n",
      "1 1 -0.0007 -0.0004 100.0      39.06    23.4190  \n",
      "  2  0.0019 -0.0003 100.0      39.00    23.4236  \n",
      "  3 -0.0043  0.0003 100.0      38.95    23.3442  \n",
      "  4  0.0007  0.0000 100.0      38.88    23.3739  \n",
      "  5 -0.0019 -0.0002 100.0      38.90    23.4044  \n",
      "\n",
      "[5 rows x 21 columns]\n"
     ]
    }
   ],
   "source": [
    "# Clean data (remove empty columns)\n",
    "train_data.dropna(axis=1, how='all', inplace=True)\n",
    "test_data.dropna(axis=1, how='all', inplace=True)\n",
    "\n",
    "# Display cleaned data\n",
    "print(train_data.head())\n"
   ]
  },
  {
   "cell_type": "code",
   "execution_count": 32,
   "id": "46ce78be",
   "metadata": {
    "execution": {
     "iopub.execute_input": "2025-02-18T15:36:11.800431Z",
     "iopub.status.busy": "2025-02-18T15:36:11.800049Z",
     "iopub.status.idle": "2025-02-18T15:36:11.823940Z",
     "shell.execute_reply": "2025-02-18T15:36:11.822699Z"
    },
    "papermill": {
     "duration": 0.033167,
     "end_time": "2025-02-18T15:36:11.825443",
     "exception": false,
     "start_time": "2025-02-18T15:36:11.792276",
     "status": "completed"
    },
    "tags": []
   },
   "outputs": [
    {
     "name": "stdout",
     "output_type": "stream",
     "text": [
      "                             unit    time  sensor_1  sensor_2  sensor_3  \\\n",
      "1 1 -0.0007 -0.0004 100.0  518.67  641.82   1589.70   1400.60     14.62   \n",
      "  2  0.0019 -0.0003 100.0  518.67  642.15   1591.82   1403.14     14.62   \n",
      "  3 -0.0043  0.0003 100.0  518.67  642.35   1587.99   1404.20     14.62   \n",
      "  4  0.0007  0.0000 100.0  518.67  642.35   1582.79   1401.87     14.62   \n",
      "  5 -0.0019 -0.0002 100.0  518.67  642.37   1582.85   1406.22     14.62   \n",
      "\n",
      "                           sensor_4  sensor_5  sensor_6  sensor_7  sensor_8  \\\n",
      "1 1 -0.0007 -0.0004 100.0     21.61    554.36   2388.06   9046.19       1.3   \n",
      "  2  0.0019 -0.0003 100.0     21.61    553.75   2388.04   9044.07       1.3   \n",
      "  3 -0.0043  0.0003 100.0     21.61    554.26   2388.08   9052.94       1.3   \n",
      "  4  0.0007  0.0000 100.0     21.61    554.45   2388.11   9049.48       1.3   \n",
      "  5 -0.0019 -0.0002 100.0     21.61    554.00   2388.06   9055.15       1.3   \n",
      "\n",
      "                           ...  sensor_11  sensor_12  sensor_13  sensor_14  \\\n",
      "1 1 -0.0007 -0.0004 100.0  ...    2388.02    8138.62     8.4195       0.03   \n",
      "  2  0.0019 -0.0003 100.0  ...    2388.07    8131.49     8.4318       0.03   \n",
      "  3 -0.0043  0.0003 100.0  ...    2388.03    8133.23     8.4178       0.03   \n",
      "  4  0.0007  0.0000 100.0  ...    2388.08    8133.83     8.3682       0.03   \n",
      "  5 -0.0019 -0.0002 100.0  ...    2388.04    8133.80     8.4294       0.03   \n",
      "\n",
      "                           sensor_15  sensor_16  sensor_17  sensor_18  \\\n",
      "1 1 -0.0007 -0.0004 100.0        392       2388      100.0      39.06   \n",
      "  2  0.0019 -0.0003 100.0        392       2388      100.0      39.00   \n",
      "  3 -0.0043  0.0003 100.0        390       2388      100.0      38.95   \n",
      "  4  0.0007  0.0000 100.0        392       2388      100.0      38.88   \n",
      "  5 -0.0019 -0.0002 100.0        393       2388      100.0      38.90   \n",
      "\n",
      "                           sensor_19   RUL  \n",
      "1 1 -0.0007 -0.0004 100.0    23.4190  2.71  \n",
      "  2  0.0019 -0.0003 100.0    23.4236  2.38  \n",
      "  3 -0.0043  0.0003 100.0    23.3442  2.18  \n",
      "  4  0.0007  0.0000 100.0    23.3739  2.18  \n",
      "  5 -0.0019 -0.0002 100.0    23.4044  2.16  \n",
      "\n",
      "[5 rows x 22 columns]\n"
     ]
    }
   ],
   "source": [
    "# Calculate Remaining Useful Life (RUL)\n",
    "train_data['RUL'] = train_data.groupby('unit')['time'].transform(lambda x: x.max() - x)\n",
    "\n",
    "# Display the first few rows to check if RUL is calculated correctly\n",
    "print(train_data.head())\n"
   ]
  },
  {
   "cell_type": "markdown",
   "id": "06a24874",
   "metadata": {
    "papermill": {
     "duration": 0.006846,
     "end_time": "2025-02-18T15:36:11.839155",
     "exception": false,
     "start_time": "2025-02-18T15:36:11.832309",
     "status": "completed"
    },
    "tags": []
   },
   "source": [
    "---\n",
    "\n",
    "## **2️ Feature Engineering**\n",
    "📌 **Goal**: Build a dataset suitable for machine learning  \n",
    "\n",
    "🔹 **Steps**\n",
    "1. **Moving Average Features** (Smooth using a 5-time step window)  \n",
    "2. **Standardize Sensor Data**  \n",
    "\n",
    "📌 **Code**\n"
   ]
  },
  {
   "cell_type": "code",
   "execution_count": 33,
   "id": "a3b523ab",
   "metadata": {
    "execution": {
     "iopub.execute_input": "2025-02-18T15:36:11.854426Z",
     "iopub.status.busy": "2025-02-18T15:36:11.854076Z",
     "iopub.status.idle": "2025-02-18T15:36:11.864899Z",
     "shell.execute_reply": "2025-02-18T15:36:11.863683Z"
    },
    "papermill": {
     "duration": 0.020432,
     "end_time": "2025-02-18T15:36:11.866411",
     "exception": false,
     "start_time": "2025-02-18T15:36:11.845979",
     "status": "completed"
    },
    "tags": []
   },
   "outputs": [
    {
     "name": "stdout",
     "output_type": "stream",
     "text": [
      "unit         0\n",
      "time         0\n",
      "sensor_1     0\n",
      "sensor_2     0\n",
      "sensor_3     0\n",
      "sensor_4     0\n",
      "sensor_5     0\n",
      "sensor_6     0\n",
      "sensor_7     0\n",
      "sensor_8     0\n",
      "sensor_9     0\n",
      "sensor_10    0\n",
      "sensor_11    0\n",
      "sensor_12    0\n",
      "sensor_13    0\n",
      "sensor_14    0\n",
      "sensor_15    0\n",
      "sensor_16    0\n",
      "sensor_17    0\n",
      "sensor_18    0\n",
      "sensor_19    0\n",
      "RUL          0\n",
      "dtype: int64\n",
      "unit         0\n",
      "time         0\n",
      "sensor_1     0\n",
      "sensor_2     0\n",
      "sensor_3     0\n",
      "sensor_4     0\n",
      "sensor_5     0\n",
      "sensor_6     0\n",
      "sensor_7     0\n",
      "sensor_8     0\n",
      "sensor_9     0\n",
      "sensor_10    0\n",
      "sensor_11    0\n",
      "sensor_12    0\n",
      "sensor_13    0\n",
      "sensor_14    0\n",
      "sensor_15    0\n",
      "sensor_16    0\n",
      "sensor_17    0\n",
      "sensor_18    0\n",
      "sensor_19    0\n",
      "dtype: int64\n"
     ]
    }
   ],
   "source": [
    "# Check for missing values\n",
    "print(train_data.isnull().sum())\n",
    "print(test_data.isnull().sum())\n"
   ]
  },
  {
   "cell_type": "code",
   "execution_count": 34,
   "id": "cef48ea1",
   "metadata": {
    "execution": {
     "iopub.execute_input": "2025-02-18T15:36:11.881577Z",
     "iopub.status.busy": "2025-02-18T15:36:11.881253Z",
     "iopub.status.idle": "2025-02-18T15:36:12.625253Z",
     "shell.execute_reply": "2025-02-18T15:36:12.624114Z"
    },
    "papermill": {
     "duration": 0.753839,
     "end_time": "2025-02-18T15:36:12.627311",
     "exception": false,
     "start_time": "2025-02-18T15:36:11.873472",
     "status": "completed"
    },
    "tags": []
   },
   "outputs": [],
   "source": [
    "# Fill missing values\n",
    "train_data.fillna(train_data.mean(), inplace=True)\n",
    "test_data.fillna(test_data.mean(), inplace=True)\n"
   ]
  },
  {
   "cell_type": "code",
   "execution_count": 35,
   "id": "dcfb1ca2",
   "metadata": {
    "execution": {
     "iopub.execute_input": "2025-02-18T15:36:12.642556Z",
     "iopub.status.busy": "2025-02-18T15:36:12.642226Z",
     "iopub.status.idle": "2025-02-18T15:36:14.066036Z",
     "shell.execute_reply": "2025-02-18T15:36:14.065001Z"
    },
    "papermill": {
     "duration": 1.433656,
     "end_time": "2025-02-18T15:36:14.068103",
     "exception": false,
     "start_time": "2025-02-18T15:36:12.634447",
     "status": "completed"
    },
    "tags": []
   },
   "outputs": [],
   "source": [
    "from sklearn.preprocessing import StandardScaler\n",
    "\n",
    "# Generate moving average features\n",
    "for sensor in [f'sensor_{i}' for i in range(1, 20)]:\n",
    "    train_data[sensor + '_mean'] = train_data[sensor].rolling(5).mean()\n",
    "\n",
    "# Standardization\n",
    "scaler = StandardScaler()\n",
    "sensor_features = [f'sensor_{i}' for i in range(1, 20)]\n",
    "train_data[sensor_features] = scaler.fit_transform(train_data[sensor_features])\n"
   ]
  },
  {
   "cell_type": "markdown",
   "id": "c501cb21",
   "metadata": {
    "papermill": {
     "duration": 0.007596,
     "end_time": "2025-02-18T15:36:14.082865",
     "exception": false,
     "start_time": "2025-02-18T15:36:14.075269",
     "status": "completed"
    },
    "tags": []
   },
   "source": [
    "---\n",
    "\n",
    "## **3️-1 Random Forest (Machine Learning Model)**\n",
    "📌 **Goal**: Use **Random Forest** to predict RUL  \n",
    "\n",
    "🔹 **Steps**\n",
    "1. Create `RandomForestRegressor`  \n",
    "2. Train the model  \n",
    "3. Evaluate the model (MSE, RMSE, R²)  \n",
    "\n",
    "📌 **Code**\n"
   ]
  },
  {
   "cell_type": "code",
   "execution_count": 36,
   "id": "f8b5868f",
   "metadata": {
    "execution": {
     "iopub.execute_input": "2025-02-18T15:36:14.098456Z",
     "iopub.status.busy": "2025-02-18T15:36:14.097880Z",
     "iopub.status.idle": "2025-02-18T15:36:14.114558Z",
     "shell.execute_reply": "2025-02-18T15:36:14.113504Z"
    },
    "papermill": {
     "duration": 0.026622,
     "end_time": "2025-02-18T15:36:14.116496",
     "exception": false,
     "start_time": "2025-02-18T15:36:14.089874",
     "status": "completed"
    },
    "tags": []
   },
   "outputs": [],
   "source": [
    "# Select sensor features as X (input)\n",
    "sensor_features = [f'sensor_{i}' for i in range(1, 20)] + [f'sensor_{i}_mean' for i in range(1, 20)]\n",
    "X = train_data[sensor_features]\n",
    "\n",
    "# Set y (target label, RUL)\n",
    "y = train_data.groupby('unit')['time'].transform(max) - train_data['time']\n"
   ]
  },
  {
   "cell_type": "code",
   "execution_count": 37,
   "id": "d49106e2",
   "metadata": {
    "execution": {
     "iopub.execute_input": "2025-02-18T15:36:14.132310Z",
     "iopub.status.busy": "2025-02-18T15:36:14.131965Z",
     "iopub.status.idle": "2025-02-18T15:36:14.263855Z",
     "shell.execute_reply": "2025-02-18T15:36:14.262440Z"
    },
    "papermill": {
     "duration": 0.142003,
     "end_time": "2025-02-18T15:36:14.265994",
     "exception": false,
     "start_time": "2025-02-18T15:36:14.123991",
     "status": "completed"
    },
    "tags": []
   },
   "outputs": [
    {
     "name": "stdout",
     "output_type": "stream",
     "text": [
      "Training set size: (16504, 38), Testing set size: (4127, 38)\n"
     ]
    }
   ],
   "source": [
    "from sklearn.model_selection import train_test_split\n",
    "\n",
    "# 80% training, 20% testing\n",
    "X_train, X_test, y_train, y_test = train_test_split(X, y, test_size=0.2, random_state=42)\n",
    "\n",
    "print(f\"Training set size: {X_train.shape}, Testing set size: {X_test.shape}\")\n"
   ]
  },
  {
   "cell_type": "code",
   "execution_count": 38,
   "id": "96fea803",
   "metadata": {
    "execution": {
     "iopub.execute_input": "2025-02-18T15:36:14.282717Z",
     "iopub.status.busy": "2025-02-18T15:36:14.282208Z",
     "iopub.status.idle": "2025-02-18T15:36:14.295775Z",
     "shell.execute_reply": "2025-02-18T15:36:14.294367Z"
    },
    "papermill": {
     "duration": 0.023743,
     "end_time": "2025-02-18T15:36:14.297444",
     "exception": false,
     "start_time": "2025-02-18T15:36:14.273701",
     "status": "completed"
    },
    "tags": []
   },
   "outputs": [
    {
     "name": "stdout",
     "output_type": "stream",
     "text": [
      "38\n",
      "38\n"
     ]
    }
   ],
   "source": [
    "print(X_train.isnull().sum().sum())  # Count total NaN values\n",
    "print(X_test.isnull().sum().sum())\n"
   ]
  },
  {
   "cell_type": "code",
   "execution_count": 39,
   "id": "2d9684fe",
   "metadata": {
    "execution": {
     "iopub.execute_input": "2025-02-18T15:36:14.312861Z",
     "iopub.status.busy": "2025-02-18T15:36:14.312470Z",
     "iopub.status.idle": "2025-02-18T15:36:15.282679Z",
     "shell.execute_reply": "2025-02-18T15:36:15.281717Z"
    },
    "papermill": {
     "duration": 0.979869,
     "end_time": "2025-02-18T15:36:15.284545",
     "exception": false,
     "start_time": "2025-02-18T15:36:14.304676",
     "status": "completed"
    },
    "tags": []
   },
   "outputs": [],
   "source": [
    "# Fill NaN values with mean\n",
    "X_train.fillna(X_train.mean(), inplace=True)\n",
    "X_test.fillna(X_test.mean(), inplace=True)\n"
   ]
  },
  {
   "cell_type": "code",
   "execution_count": 40,
   "id": "b2712fbe",
   "metadata": {
    "execution": {
     "iopub.execute_input": "2025-02-18T15:36:15.300180Z",
     "iopub.status.busy": "2025-02-18T15:36:15.299841Z",
     "iopub.status.idle": "2025-02-18T15:36:53.985884Z",
     "shell.execute_reply": "2025-02-18T15:36:53.984735Z"
    },
    "papermill": {
     "duration": 38.702578,
     "end_time": "2025-02-18T15:36:53.994439",
     "exception": false,
     "start_time": "2025-02-18T15:36:15.291861",
     "status": "completed"
    },
    "tags": []
   },
   "outputs": [
    {
     "name": "stdout",
     "output_type": "stream",
     "text": [
      "Random Forest model training complete!\n"
     ]
    }
   ],
   "source": [
    "from sklearn.ensemble import RandomForestRegressor\n",
    "\n",
    "# Create Random Forest model\n",
    "rf_model = RandomForestRegressor(n_estimators=100, random_state=42)\n",
    "\n",
    "# Train the model\n",
    "rf_model.fit(X_train, y_train)\n",
    "\n",
    "print(\"Random Forest model training complete!\")\n"
   ]
  },
  {
   "cell_type": "code",
   "execution_count": 41,
   "id": "9b0a4497",
   "metadata": {
    "execution": {
     "iopub.execute_input": "2025-02-18T15:36:54.009756Z",
     "iopub.status.busy": "2025-02-18T15:36:54.009318Z",
     "iopub.status.idle": "2025-02-18T15:36:54.168238Z",
     "shell.execute_reply": "2025-02-18T15:36:54.167129Z"
    },
    "papermill": {
     "duration": 0.168686,
     "end_time": "2025-02-18T15:36:54.170187",
     "exception": false,
     "start_time": "2025-02-18T15:36:54.001501",
     "status": "completed"
    },
    "tags": []
   },
   "outputs": [
    {
     "name": "stdout",
     "output_type": "stream",
     "text": [
      "Random Forest Model MSE: 0.09723922108068744\n",
      "Random Forest Model RMSE: 0.3118320398558933\n",
      "Random Forest Model R²: 0.6106563464316525\n"
     ]
    }
   ],
   "source": [
    "from sklearn.metrics import mean_squared_error, r2_score\n",
    "\n",
    "# Predict on test set\n",
    "y_pred = rf_model.predict(X_test)\n",
    "\n",
    "# Calculate MSE (Mean Squared Error)\n",
    "mse = mean_squared_error(y_test, y_pred)\n",
    "\n",
    "# Calculate RMSE (Root Mean Squared Error)\n",
    "rmse = mean_squared_error(y_test, y_pred, squared=False)\n",
    "\n",
    "# Calculate R² (R-squared)\n",
    "r2 = r2_score(y_test, y_pred)\n",
    "\n",
    "print(f\"Random Forest Model MSE: {mse}\")\n",
    "print(f\"Random Forest Model RMSE: {rmse}\")\n",
    "print(f\"Random Forest Model R²: {r2}\")\n"
   ]
  },
  {
   "cell_type": "markdown",
   "id": "1b51b423",
   "metadata": {
    "papermill": {
     "duration": 0.007248,
     "end_time": "2025-02-18T15:36:54.184769",
     "exception": false,
     "start_time": "2025-02-18T15:36:54.177521",
     "status": "completed"
    },
    "tags": []
   },
   "source": [
    "---\n",
    "\n",
    "## **3️-2 XGBoost (Machine Learning Model)**\n",
    "📌 **Goal**: Use **XGBoost** to predict RUL  \n",
    "\n",
    "🔹 **Steps**\n",
    "1. Create `XGBRegressor`\n",
    "2. Train the model\n",
    "3. Evaluate the model (MSE, RMSE, R²)\n",
    "\n",
    "📌 **Code**\n"
   ]
  },
  {
   "cell_type": "code",
   "execution_count": 42,
   "id": "b964c435",
   "metadata": {
    "execution": {
     "iopub.execute_input": "2025-02-18T15:36:54.200393Z",
     "iopub.status.busy": "2025-02-18T15:36:54.200058Z",
     "iopub.status.idle": "2025-02-18T15:37:39.609759Z",
     "shell.execute_reply": "2025-02-18T15:37:39.608757Z"
    },
    "papermill": {
     "duration": 45.427354,
     "end_time": "2025-02-18T15:37:39.619249",
     "exception": false,
     "start_time": "2025-02-18T15:36:54.191895",
     "status": "completed"
    },
    "tags": []
   },
   "outputs": [
    {
     "name": "stdout",
     "output_type": "stream",
     "text": [
      "Best Parameters: {\n",
      "    \"subsample\": 0.8,\n",
      "    \"n_estimators\": 100,\n",
      "    \"max_depth\": 3,\n",
      "    \"learning_rate\": 0.05,\n",
      "    \"colsample_bytree\": 0.6\n",
      "}\n",
      "XGBoost Tuned MSE: 0.095687\n",
      "XGBoost Tuned RMSE: 0.309333\n",
      "XGBoost Tuned R²: 0.616873\n"
     ]
    }
   ],
   "source": [
    "import numpy as np\n",
    "import xgboost as xgb\n",
    "from sklearn.model_selection import RandomizedSearchCV\n",
    "from sklearn.metrics import mean_squared_error, r2_score\n",
    "import json\n",
    "\n",
    "# Ensure the data format is correct\n",
    "X_train = np.array(X_train)\n",
    "y_train = np.array(y_train)\n",
    "X_test = np.array(X_test)\n",
    "y_test = np.array(y_test)\n",
    "\n",
    "# 1. Define the hyperparameter search space\n",
    "param_grid = {\n",
    "    'n_estimators': [50, 100, 200, 300],\n",
    "    'learning_rate': [0.01, 0.05, 0.1, 0.2], \n",
    "    'max_depth': [3, 5, 7, 9], \n",
    "    'subsample': [0.6, 0.7, 0.8, 1.0],\n",
    "    'colsample_bytree': [0.6, 0.7, 0.8, 1.0] \n",
    "}\n",
    "\n",
    "# 2. Create the XGBoost model\n",
    "xgb_model = xgb.XGBRegressor(objective='reg:squarederror', random_state=42)\n",
    "\n",
    "# 3. Perform hyperparameter tuning using Randomized Search\n",
    "random_search = RandomizedSearchCV(\n",
    "    xgb_model,\n",
    "    param_distributions=param_grid,\n",
    "    n_iter=20,  # Increase the number of search iterations\n",
    "    cv=3,\n",
    "    scoring='neg_mean_squared_error',\n",
    "    n_jobs=-1,\n",
    "    random_state=42  # Ensure reproducibility\n",
    ")\n",
    "\n",
    "# 4. Train the model (Ensure X_train, y_train are correctly formatted)\n",
    "random_search.fit(X_train, y_train)\n",
    "\n",
    "# 5. Retrieve the best hyperparameters\n",
    "best_params = random_search.best_params_\n",
    "print(\"Best Parameters:\", json.dumps(best_params, indent=4))\n",
    "\n",
    "# 6. Train XGBoost with the best parameters\n",
    "best_xgb = xgb.XGBRegressor(**best_params, random_state=42)\n",
    "best_xgb.fit(X_train, y_train)\n",
    "\n",
    "# 7. Predict on the test set\n",
    "y_pred_xgb = best_xgb.predict(X_test)\n",
    "\n",
    "# 8. Compute MSE, RMSE, and R²\n",
    "mse_xgb = mean_squared_error(y_test, y_pred_xgb)\n",
    "rmse_xgb = np.sqrt(mse_xgb)\n",
    "r2_xgb = r2_score(y_test, y_pred_xgb)\n",
    "\n",
    "print(f\"XGBoost Tuned MSE: {mse_xgb:.6f}\")\n",
    "print(f\"XGBoost Tuned RMSE: {rmse_xgb:.6f}\")\n",
    "print(f\"XGBoost Tuned R²: {r2_xgb:.6f}\")\n"
   ]
  },
  {
   "cell_type": "code",
   "execution_count": 43,
   "id": "32a9f93b",
   "metadata": {
    "execution": {
     "iopub.execute_input": "2025-02-18T15:37:39.635004Z",
     "iopub.status.busy": "2025-02-18T15:37:39.634587Z",
     "iopub.status.idle": "2025-02-18T15:37:40.322459Z",
     "shell.execute_reply": "2025-02-18T15:37:40.321322Z"
    },
    "papermill": {
     "duration": 0.69873,
     "end_time": "2025-02-18T15:37:40.325207",
     "exception": false,
     "start_time": "2025-02-18T15:37:39.626477",
     "status": "completed"
    },
    "tags": []
   },
   "outputs": [
    {
     "data": {
      "image/png": "[encoded data removed]",
      "text/plain": [
       "<Figure size 800x600 with 1 Axes>"
      ]
     },
     "metadata": {},
     "output_type": "display_data"
    }
   ],
   "source": [
    "import matplotlib.pyplot as plt\n",
    "\n",
    "# Predict using the trained XGBoost model\n",
    "y_pred = best_xgb.predict(X_test)\n",
    "\n",
    "# Create a scatter plot to compare true vs. predicted RUL\n",
    "plt.figure(figsize=(8,6))\n",
    "plt.scatter(y_test, y_pred, alpha=0.5)\n",
    "\n",
    "# Plot the ideal case (where predictions perfectly match actual values)\n",
    "plt.plot([min(y_test), max(y_test)], [min(y_test), max(y_test)], color='red', linestyle=\"--\")\n",
    "\n",
    "# Labels and title\n",
    "plt.xlabel(\"True RUL\")\n",
    "plt.ylabel(\"Predicted RUL\")\n",
    "plt.title(\"XGBoost RUL Prediction Results\")\n",
    "\n",
    "# Show the plot\n",
    "plt.show()\n"
   ]
  },
  {
   "cell_type": "markdown",
   "id": "f3804db2",
   "metadata": {
    "papermill": {
     "duration": 0.009566,
     "end_time": "2025-02-18T15:37:40.344781",
     "exception": false,
     "start_time": "2025-02-18T15:37:40.335215",
     "status": "completed"
    },
    "tags": []
   },
   "source": [
    "# ---\n",
    "# \n",
    "# ## **4️ CNN (Deep Learning Model)**\n",
    "# 📌 **Goal**: Use **CNN** to predict RUL  \n",
    "# \n",
    "# 🔹 **Steps**  \n",
    "# 1. Design the CNN architecture  \n",
    "# 2. Train the model  \n",
    "# 3. Evaluate the model  \n",
    "# \n",
    "# 📌 **Code (TensorFlow/Keras)**\n"
   ]
  },
  {
   "cell_type": "code",
   "execution_count": 44,
   "id": "b4cee94e",
   "metadata": {
    "execution": {
     "iopub.execute_input": "2025-02-18T15:37:40.365963Z",
     "iopub.status.busy": "2025-02-18T15:37:40.365566Z",
     "iopub.status.idle": "2025-02-18T15:37:40.423301Z",
     "shell.execute_reply": "2025-02-18T15:37:40.422360Z"
    },
    "papermill": {
     "duration": 0.070458,
     "end_time": "2025-02-18T15:37:40.425091",
     "exception": false,
     "start_time": "2025-02-18T15:37:40.354633",
     "status": "completed"
    },
    "tags": []
   },
   "outputs": [
    {
     "name": "stdout",
     "output_type": "stream",
     "text": [
      "(16494, 10, 38) (4117, 10, 38)\n"
     ]
    }
   ],
   "source": [
    "# CNN Data Preprocessing - Sliding Window Method\n",
    "import numpy as np\n",
    "\n",
    "def create_sequences(X, y, time_steps=5):\n",
    "    X_seq, y_seq = [], []\n",
    "    # Ensure y indices are continuous\n",
    "    y = y.reset_index(drop=True) if hasattr(y, \"reset_index\") else y\n",
    "    for i in range(len(X) - time_steps):\n",
    "        X_seq.append(X[i: i + time_steps])\n",
    "        y_seq.append(y[i + time_steps])\n",
    "    return np.array(X_seq), np.array(y_seq)\n",
    "\n",
    "# Convert X_train and X_test to NumPy arrays if they are DataFrames\n",
    "X_train = X_train.to_numpy() if hasattr(X_train, 'to_numpy') else X_train\n",
    "X_test = X_test.to_numpy() if hasattr(X_test, 'to_numpy') else X_test\n",
    "\n",
    "time_steps = 10  # Window size\n",
    "X_train_seq, y_train_seq = create_sequences(X_train, y_train, time_steps)\n",
    "X_test_seq, y_test_seq = create_sequences(X_test, y_test, time_steps)\n",
    "\n",
    "# Ensure the input shape is correct (samples, time steps, features)\n",
    "print(X_train_seq.shape, X_test_seq.shape)  # (samples, 10, number of features)\n"
   ]
  },
  {
   "cell_type": "code",
   "execution_count": 45,
   "id": "2bc73424",
   "metadata": {
    "execution": {
     "iopub.execute_input": "2025-02-18T15:37:40.446166Z",
     "iopub.status.busy": "2025-02-18T15:37:40.445820Z",
     "iopub.status.idle": "2025-02-18T15:37:55.263727Z",
     "shell.execute_reply": "2025-02-18T15:37:55.262690Z"
    },
    "papermill": {
     "duration": 14.83064,
     "end_time": "2025-02-18T15:37:55.265712",
     "exception": false,
     "start_time": "2025-02-18T15:37:40.435072",
     "status": "completed"
    },
    "tags": []
   },
   "outputs": [],
   "source": [
    "import tensorflow as tf\n",
    "from tensorflow.keras.models import Sequential\n",
    "from tensorflow.keras.layers import Conv1D, LSTM, Flatten, Dense, Dropout\n",
    "from tensorflow.keras.optimizers import Adam\n",
    "from sklearn.metrics import mean_squared_error, r2_score\n",
    "import numpy as np"
   ]
  },
  {
   "cell_type": "code",
   "execution_count": 46,
   "id": "a31f6711",
   "metadata": {
    "execution": {
     "iopub.execute_input": "2025-02-18T15:37:55.288115Z",
     "iopub.status.busy": "2025-02-18T15:37:55.287459Z",
     "iopub.status.idle": "2025-02-18T15:37:55.425960Z",
     "shell.execute_reply": "2025-02-18T15:37:55.424953Z"
    },
    "papermill": {
     "duration": 0.151256,
     "end_time": "2025-02-18T15:37:55.427598",
     "exception": false,
     "start_time": "2025-02-18T15:37:55.276342",
     "status": "completed"
    },
    "tags": []
   },
   "outputs": [
    {
     "data": {
      "text/html": [
       "<pre style=\"white-space:pre;overflow-x:auto;line-height:normal;font-family:Menlo,'DejaVu Sans Mono',consolas,'Courier New',monospace\"><span style=\"font-weight: bold\">Model: \"sequential_1\"</span>\n",
       "</pre>\n"
      ],
      "text/plain": [
       "\u001b[1mModel: \"sequential_1\"\u001b[0m\n"
      ]
     },
     "metadata": {},
     "output_type": "display_data"
    },
    {
     "data": {
      "text/html": [
       "<pre style=\"white-space:pre;overflow-x:auto;line-height:normal;font-family:Menlo,'DejaVu Sans Mono',consolas,'Courier New',monospace\">┏━━━━━━━━━━━━━━━━━━━━━━━━━━━━━━━━━┳━━━━━━━━━━━━━━━━━━━━━━━━┳━━━━━━━━━━━━━━━┓\n",
       "┃<span style=\"font-weight: bold\"> Layer (type)                    </span>┃<span style=\"font-weight: bold\"> Output Shape           </span>┃<span style=\"font-weight: bold\">       Param # </span>┃\n",
       "┡━━━━━━━━━━━━━━━━━━━━━━━━━━━━━━━━━╇━━━━━━━━━━━━━━━━━━━━━━━━╇━━━━━━━━━━━━━━━┩\n",
       "│ conv1d_3 (<span style=\"color: #0087ff; text-decoration-color: #0087ff\">Conv1D</span>)               │ (<span style=\"color: #00d7ff; text-decoration-color: #00d7ff\">None</span>, <span style=\"color: #00af00; text-decoration-color: #00af00\">10</span>, <span style=\"color: #00af00; text-decoration-color: #00af00\">256</span>)        │        <span style=\"color: #00af00; text-decoration-color: #00af00\">48,896</span> │\n",
       "├─────────────────────────────────┼────────────────────────┼───────────────┤\n",
       "│ conv1d_4 (<span style=\"color: #0087ff; text-decoration-color: #0087ff\">Conv1D</span>)               │ (<span style=\"color: #00d7ff; text-decoration-color: #00d7ff\">None</span>, <span style=\"color: #00af00; text-decoration-color: #00af00\">10</span>, <span style=\"color: #00af00; text-decoration-color: #00af00\">128</span>)        │        <span style=\"color: #00af00; text-decoration-color: #00af00\">98,432</span> │\n",
       "├─────────────────────────────────┼────────────────────────┼───────────────┤\n",
       "│ conv1d_5 (<span style=\"color: #0087ff; text-decoration-color: #0087ff\">Conv1D</span>)               │ (<span style=\"color: #00d7ff; text-decoration-color: #00d7ff\">None</span>, <span style=\"color: #00af00; text-decoration-color: #00af00\">10</span>, <span style=\"color: #00af00; text-decoration-color: #00af00\">64</span>)         │        <span style=\"color: #00af00; text-decoration-color: #00af00\">24,640</span> │\n",
       "├─────────────────────────────────┼────────────────────────┼───────────────┤\n",
       "│ flatten_1 (<span style=\"color: #0087ff; text-decoration-color: #0087ff\">Flatten</span>)             │ (<span style=\"color: #00d7ff; text-decoration-color: #00d7ff\">None</span>, <span style=\"color: #00af00; text-decoration-color: #00af00\">640</span>)            │             <span style=\"color: #00af00; text-decoration-color: #00af00\">0</span> │\n",
       "├─────────────────────────────────┼────────────────────────┼───────────────┤\n",
       "│ dense_3 (<span style=\"color: #0087ff; text-decoration-color: #0087ff\">Dense</span>)                 │ (<span style=\"color: #00d7ff; text-decoration-color: #00d7ff\">None</span>, <span style=\"color: #00af00; text-decoration-color: #00af00\">128</span>)            │        <span style=\"color: #00af00; text-decoration-color: #00af00\">82,048</span> │\n",
       "├─────────────────────────────────┼────────────────────────┼───────────────┤\n",
       "│ dense_4 (<span style=\"color: #0087ff; text-decoration-color: #0087ff\">Dense</span>)                 │ (<span style=\"color: #00d7ff; text-decoration-color: #00d7ff\">None</span>, <span style=\"color: #00af00; text-decoration-color: #00af00\">64</span>)             │         <span style=\"color: #00af00; text-decoration-color: #00af00\">8,256</span> │\n",
       "├─────────────────────────────────┼────────────────────────┼───────────────┤\n",
       "│ dense_5 (<span style=\"color: #0087ff; text-decoration-color: #0087ff\">Dense</span>)                 │ (<span style=\"color: #00d7ff; text-decoration-color: #00d7ff\">None</span>, <span style=\"color: #00af00; text-decoration-color: #00af00\">1</span>)              │            <span style=\"color: #00af00; text-decoration-color: #00af00\">65</span> │\n",
       "└─────────────────────────────────┴────────────────────────┴───────────────┘\n",
       "</pre>\n"
      ],
      "text/plain": [
       "┏━━━━━━━━━━━━━━━━━━━━━━━━━━━━━━━━━┳━━━━━━━━━━━━━━━━━━━━━━━━┳━━━━━━━━━━━━━━━┓\n",
       "┃\u001b[1m \u001b[0m\u001b[1mLayer (type)                   \u001b[0m\u001b[1m \u001b[0m┃\u001b[1m \u001b[0m\u001b[1mOutput Shape          \u001b[0m\u001b[1m \u001b[0m┃\u001b[1m \u001b[0m\u001b[1m      Param #\u001b[0m\u001b[1m \u001b[0m┃\n",
       "┡━━━━━━━━━━━━━━━━━━━━━━━━━━━━━━━━━╇━━━━━━━━━━━━━━━━━━━━━━━━╇━━━━━━━━━━━━━━━┩\n",
       "│ conv1d_3 (\u001b[38;5;33mConv1D\u001b[0m)               │ (\u001b[38;5;45mNone\u001b[0m, \u001b[38;5;34m10\u001b[0m, \u001b[38;5;34m256\u001b[0m)        │        \u001b[38;5;34m48,896\u001b[0m │\n",
       "├─────────────────────────────────┼────────────────────────┼───────────────┤\n",
       "│ conv1d_4 (\u001b[38;5;33mConv1D\u001b[0m)               │ (\u001b[38;5;45mNone\u001b[0m, \u001b[38;5;34m10\u001b[0m, \u001b[38;5;34m128\u001b[0m)        │        \u001b[38;5;34m98,432\u001b[0m │\n",
       "├─────────────────────────────────┼────────────────────────┼───────────────┤\n",
       "│ conv1d_5 (\u001b[38;5;33mConv1D\u001b[0m)               │ (\u001b[38;5;45mNone\u001b[0m, \u001b[38;5;34m10\u001b[0m, \u001b[38;5;34m64\u001b[0m)         │        \u001b[38;5;34m24,640\u001b[0m │\n",
       "├─────────────────────────────────┼────────────────────────┼───────────────┤\n",
       "│ flatten_1 (\u001b[38;5;33mFlatten\u001b[0m)             │ (\u001b[38;5;45mNone\u001b[0m, \u001b[38;5;34m640\u001b[0m)            │             \u001b[38;5;34m0\u001b[0m │\n",
       "├─────────────────────────────────┼────────────────────────┼───────────────┤\n",
       "│ dense_3 (\u001b[38;5;33mDense\u001b[0m)                 │ (\u001b[38;5;45mNone\u001b[0m, \u001b[38;5;34m128\u001b[0m)            │        \u001b[38;5;34m82,048\u001b[0m │\n",
       "├─────────────────────────────────┼────────────────────────┼───────────────┤\n",
       "│ dense_4 (\u001b[38;5;33mDense\u001b[0m)                 │ (\u001b[38;5;45mNone\u001b[0m, \u001b[38;5;34m64\u001b[0m)             │         \u001b[38;5;34m8,256\u001b[0m │\n",
       "├─────────────────────────────────┼────────────────────────┼───────────────┤\n",
       "│ dense_5 (\u001b[38;5;33mDense\u001b[0m)                 │ (\u001b[38;5;45mNone\u001b[0m, \u001b[38;5;34m1\u001b[0m)              │            \u001b[38;5;34m65\u001b[0m │\n",
       "└─────────────────────────────────┴────────────────────────┴───────────────┘\n"
      ]
     },
     "metadata": {},
     "output_type": "display_data"
    },
    {
     "data": {
      "text/html": [
       "<pre style=\"white-space:pre;overflow-x:auto;line-height:normal;font-family:Menlo,'DejaVu Sans Mono',consolas,'Courier New',monospace\"><span style=\"font-weight: bold\"> Total params: </span><span style=\"color: #00af00; text-decoration-color: #00af00\">262,337</span> (1.00 MB)\n",
       "</pre>\n"
      ],
      "text/plain": [
       "\u001b[1m Total params: \u001b[0m\u001b[38;5;34m262,337\u001b[0m (1.00 MB)\n"
      ]
     },
     "metadata": {},
     "output_type": "display_data"
    },
    {
     "data": {
      "text/html": [
       "<pre style=\"white-space:pre;overflow-x:auto;line-height:normal;font-family:Menlo,'DejaVu Sans Mono',consolas,'Courier New',monospace\"><span style=\"font-weight: bold\"> Trainable params: </span><span style=\"color: #00af00; text-decoration-color: #00af00\">262,337</span> (1.00 MB)\n",
       "</pre>\n"
      ],
      "text/plain": [
       "\u001b[1m Trainable params: \u001b[0m\u001b[38;5;34m262,337\u001b[0m (1.00 MB)\n"
      ]
     },
     "metadata": {},
     "output_type": "display_data"
    },
    {
     "data": {
      "text/html": [
       "<pre style=\"white-space:pre;overflow-x:auto;line-height:normal;font-family:Menlo,'DejaVu Sans Mono',consolas,'Courier New',monospace\"><span style=\"font-weight: bold\"> Non-trainable params: </span><span style=\"color: #00af00; text-decoration-color: #00af00\">0</span> (0.00 B)\n",
       "</pre>\n"
      ],
      "text/plain": [
       "\u001b[1m Non-trainable params: \u001b[0m\u001b[38;5;34m0\u001b[0m (0.00 B)\n"
      ]
     },
     "metadata": {},
     "output_type": "display_data"
    }
   ],
   "source": [
    "# CNN Model Architecture\n",
    "# Define the CNN model\n",
    "\n",
    "model = Sequential([\n",
    "    Conv1D(256, kernel_size=5, activation='relu', padding='same', input_shape=(time_steps, X_train_seq.shape[2])),\n",
    "    Conv1D(128, kernel_size=3, activation='relu', padding='same'),\n",
    "    Conv1D(64, kernel_size=3, activation='relu', padding='same'),\n",
    "    Flatten(),\n",
    "    Dense(128, activation='relu'),\n",
    "    Dense(64, activation='relu'),\n",
    "    Dense(1)\n",
    "])\n",
    "\n",
    "# Compile the model\n",
    "model.compile(optimizer=Adam(learning_rate=0.0005), loss='mse', metrics=['mae'])\n",
    "\n",
    "# Display model architecture\n",
    "model.summary()\n"
   ]
  },
  {
   "cell_type": "code",
   "execution_count": 47,
   "id": "5abb40a0",
   "metadata": {
    "execution": {
     "iopub.execute_input": "2025-02-18T15:37:55.450283Z",
     "iopub.status.busy": "2025-02-18T15:37:55.449950Z",
     "iopub.status.idle": "2025-02-18T15:41:50.758404Z",
     "shell.execute_reply": "2025-02-18T15:41:50.757372Z"
    },
    "papermill": {
     "duration": 235.321958,
     "end_time": "2025-02-18T15:41:50.760289",
     "exception": false,
     "start_time": "2025-02-18T15:37:55.438331",
     "status": "completed"
    },
    "tags": []
   },
   "outputs": [
    {
     "name": "stdout",
     "output_type": "stream",
     "text": [
      "Epoch 1/50\n",
      "\u001b[1m516/516\u001b[0m \u001b[32m━━━━━━━━━━━━━━━━━━━━\u001b[0m\u001b[37m\u001b[0m \u001b[1m4s\u001b[0m 6ms/step - loss: 11018.9473 - mae: 34.5699 - val_loss: 0.6700 - val_mae: 0.6464\n",
      "Epoch 2/50\n",
      "\u001b[1m516/516\u001b[0m \u001b[32m━━━━━━━━━━━━━━━━━━━━\u001b[0m\u001b[37m\u001b[0m \u001b[1m2s\u001b[0m 5ms/step - loss: 8.1041 - mae: 1.7739 - val_loss: 28.2557 - val_mae: 5.2687\n",
      "Epoch 3/50\n",
      "\u001b[1m516/516\u001b[0m \u001b[32m━━━━━━━━━━━━━━━━━━━━\u001b[0m\u001b[37m\u001b[0m \u001b[1m2s\u001b[0m 4ms/step - loss: 18.5011 - mae: 3.4056 - val_loss: 0.9252 - val_mae: 0.8075\n",
      "Epoch 4/50\n",
      "\u001b[1m516/516\u001b[0m \u001b[32m━━━━━━━━━━━━━━━━━━━━\u001b[0m\u001b[37m\u001b[0m \u001b[1m2s\u001b[0m 4ms/step - loss: 20.1178 - mae: 3.3469 - val_loss: 16.7611 - val_mae: 4.0489\n",
      "Epoch 5/50\n",
      "\u001b[1m516/516\u001b[0m \u001b[32m━━━━━━━━━━━━━━━━━━━━\u001b[0m\u001b[37m\u001b[0m \u001b[1m2s\u001b[0m 4ms/step - loss: 14.3985 - mae: 3.0343 - val_loss: 1.9298 - val_mae: 1.2724\n",
      "Epoch 6/50\n",
      "\u001b[1m516/516\u001b[0m \u001b[32m━━━━━━━━━━━━━━━━━━━━\u001b[0m\u001b[37m\u001b[0m \u001b[1m2s\u001b[0m 4ms/step - loss: 222.2718 - mae: 3.5056 - val_loss: 0.3929 - val_mae: 0.5156\n",
      "Epoch 7/50\n",
      "\u001b[1m516/516\u001b[0m \u001b[32m━━━━━━━━━━━━━━━━━━━━\u001b[0m\u001b[37m\u001b[0m \u001b[1m2s\u001b[0m 4ms/step - loss: 0.3994 - mae: 0.5082 - val_loss: 0.6231 - val_mae: 0.6710\n",
      "Epoch 8/50\n",
      "\u001b[1m516/516\u001b[0m \u001b[32m━━━━━━━━━━━━━━━━━━━━\u001b[0m\u001b[37m\u001b[0m \u001b[1m2s\u001b[0m 5ms/step - loss: 0.5272 - mae: 0.5778 - val_loss: 0.2787 - val_mae: 0.4239\n",
      "Epoch 9/50\n",
      "\u001b[1m516/516\u001b[0m \u001b[32m━━━━━━━━━━━━━━━━━━━━\u001b[0m\u001b[37m\u001b[0m \u001b[1m3s\u001b[0m 5ms/step - loss: 0.6349 - mae: 0.6379 - val_loss: 0.4191 - val_mae: 0.5111\n",
      "Epoch 10/50\n",
      "\u001b[1m516/516\u001b[0m \u001b[32m━━━━━━━━━━━━━━━━━━━━\u001b[0m\u001b[37m\u001b[0m \u001b[1m3s\u001b[0m 5ms/step - loss: 0.9746 - mae: 0.7836 - val_loss: 0.2872 - val_mae: 0.4344\n",
      "Epoch 11/50\n",
      "\u001b[1m516/516\u001b[0m \u001b[32m━━━━━━━━━━━━━━━━━━━━\u001b[0m\u001b[37m\u001b[0m \u001b[1m3s\u001b[0m 5ms/step - loss: 0.7772 - mae: 0.7104 - val_loss: 0.5978 - val_mae: 0.6314\n",
      "Epoch 12/50\n",
      "\u001b[1m516/516\u001b[0m \u001b[32m━━━━━━━━━━━━━━━━━━━━\u001b[0m\u001b[37m\u001b[0m \u001b[1m3s\u001b[0m 5ms/step - loss: 1.2576 - mae: 0.8886 - val_loss: 0.2703 - val_mae: 0.4197\n",
      "Epoch 13/50\n",
      "\u001b[1m516/516\u001b[0m \u001b[32m━━━━━━━━━━━━━━━━━━━━\u001b[0m\u001b[37m\u001b[0m \u001b[1m3s\u001b[0m 5ms/step - loss: 1.0366 - mae: 0.8193 - val_loss: 1.4627 - val_mae: 1.1042\n",
      "Epoch 14/50\n",
      "\u001b[1m516/516\u001b[0m \u001b[32m━━━━━━━━━━━━━━━━━━━━\u001b[0m\u001b[37m\u001b[0m \u001b[1m3s\u001b[0m 6ms/step - loss: 1.4058 - mae: 0.9330 - val_loss: 0.3279 - val_mae: 0.4719\n",
      "Epoch 15/50\n",
      "\u001b[1m516/516\u001b[0m \u001b[32m━━━━━━━━━━━━━━━━━━━━\u001b[0m\u001b[37m\u001b[0m \u001b[1m3s\u001b[0m 6ms/step - loss: 0.8335 - mae: 0.7295 - val_loss: 0.2621 - val_mae: 0.4116\n",
      "Epoch 16/50\n",
      "\u001b[1m516/516\u001b[0m \u001b[32m━━━━━━━━━━━━━━━━━━━━\u001b[0m\u001b[37m\u001b[0m \u001b[1m3s\u001b[0m 5ms/step - loss: 0.9751 - mae: 0.7840 - val_loss: 0.3388 - val_mae: 0.4803\n",
      "Epoch 17/50\n",
      "\u001b[1m516/516\u001b[0m \u001b[32m━━━━━━━━━━━━━━━━━━━━\u001b[0m\u001b[37m\u001b[0m \u001b[1m3s\u001b[0m 6ms/step - loss: 0.6006 - mae: 0.6098 - val_loss: 0.2870 - val_mae: 0.4378\n",
      "Epoch 18/50\n",
      "\u001b[1m516/516\u001b[0m \u001b[32m━━━━━━━━━━━━━━━━━━━━\u001b[0m\u001b[37m\u001b[0m \u001b[1m4s\u001b[0m 7ms/step - loss: 0.4038 - mae: 0.5054 - val_loss: 0.2561 - val_mae: 0.4012\n",
      "Epoch 19/50\n",
      "\u001b[1m516/516\u001b[0m \u001b[32m━━━━━━━━━━━━━━━━━━━━\u001b[0m\u001b[37m\u001b[0m \u001b[1m4s\u001b[0m 7ms/step - loss: 81.5886 - mae: 2.0287 - val_loss: 0.3174 - val_mae: 0.4403\n",
      "Epoch 20/50\n",
      "\u001b[1m516/516\u001b[0m \u001b[32m━━━━━━━━━━━━━━━━━━━━\u001b[0m\u001b[37m\u001b[0m \u001b[1m3s\u001b[0m 6ms/step - loss: 0.4229 - mae: 0.5212 - val_loss: 0.2706 - val_mae: 0.4088\n",
      "Epoch 21/50\n",
      "\u001b[1m516/516\u001b[0m \u001b[32m━━━━━━━━━━━━━━━━━━━━\u001b[0m\u001b[37m\u001b[0m \u001b[1m3s\u001b[0m 6ms/step - loss: 0.4034 - mae: 0.5064 - val_loss: 0.5919 - val_mae: 0.6296\n",
      "Epoch 22/50\n",
      "\u001b[1m516/516\u001b[0m \u001b[32m━━━━━━━━━━━━━━━━━━━━\u001b[0m\u001b[37m\u001b[0m \u001b[1m3s\u001b[0m 6ms/step - loss: 0.3990 - mae: 0.5058 - val_loss: 0.4490 - val_mae: 0.5325\n",
      "Epoch 23/50\n",
      "\u001b[1m516/516\u001b[0m \u001b[32m━━━━━━━━━━━━━━━━━━━━\u001b[0m\u001b[37m\u001b[0m \u001b[1m3s\u001b[0m 5ms/step - loss: 0.4529 - mae: 0.5416 - val_loss: 0.5167 - val_mae: 0.5799\n",
      "Epoch 24/50\n",
      "\u001b[1m516/516\u001b[0m \u001b[32m━━━━━━━━━━━━━━━━━━━━\u001b[0m\u001b[37m\u001b[0m \u001b[1m3s\u001b[0m 6ms/step - loss: 0.4106 - mae: 0.5137 - val_loss: 0.3425 - val_mae: 0.4856\n",
      "Epoch 25/50\n",
      "\u001b[1m516/516\u001b[0m \u001b[32m━━━━━━━━━━━━━━━━━━━━\u001b[0m\u001b[37m\u001b[0m \u001b[1m3s\u001b[0m 6ms/step - loss: 0.3216 - mae: 0.4553 - val_loss: 0.2619 - val_mae: 0.4149\n",
      "Epoch 26/50\n",
      "\u001b[1m516/516\u001b[0m \u001b[32m━━━━━━━━━━━━━━━━━━━━\u001b[0m\u001b[37m\u001b[0m \u001b[1m3s\u001b[0m 5ms/step - loss: 0.3005 - mae: 0.4389 - val_loss: 0.2930 - val_mae: 0.4234\n",
      "Epoch 27/50\n",
      "\u001b[1m516/516\u001b[0m \u001b[32m━━━━━━━━━━━━━━━━━━━━\u001b[0m\u001b[37m\u001b[0m \u001b[1m3s\u001b[0m 5ms/step - loss: 0.3057 - mae: 0.4454 - val_loss: 0.4026 - val_mae: 0.5006\n",
      "Epoch 28/50\n",
      "\u001b[1m516/516\u001b[0m \u001b[32m━━━━━━━━━━━━━━━━━━━━\u001b[0m\u001b[37m\u001b[0m \u001b[1m3s\u001b[0m 5ms/step - loss: 0.3151 - mae: 0.4506 - val_loss: 0.2507 - val_mae: 0.3982\n",
      "Epoch 29/50\n",
      "\u001b[1m516/516\u001b[0m \u001b[32m━━━━━━━━━━━━━━━━━━━━\u001b[0m\u001b[37m\u001b[0m \u001b[1m3s\u001b[0m 6ms/step - loss: 0.2836 - mae: 0.4266 - val_loss: 0.2518 - val_mae: 0.4035\n",
      "Epoch 30/50\n",
      "\u001b[1m516/516\u001b[0m \u001b[32m━━━━━━━━━━━━━━━━━━━━\u001b[0m\u001b[37m\u001b[0m \u001b[1m3s\u001b[0m 6ms/step - loss: 0.3084 - mae: 0.4439 - val_loss: 0.3455 - val_mae: 0.4880\n",
      "Epoch 31/50\n",
      "\u001b[1m516/516\u001b[0m \u001b[32m━━━━━━━━━━━━━━━━━━━━\u001b[0m\u001b[37m\u001b[0m \u001b[1m3s\u001b[0m 6ms/step - loss: 0.2727 - mae: 0.4190 - val_loss: 0.2518 - val_mae: 0.3982\n",
      "Epoch 32/50\n",
      "\u001b[1m516/516\u001b[0m \u001b[32m━━━━━━━━━━━━━━━━━━━━\u001b[0m\u001b[37m\u001b[0m \u001b[1m3s\u001b[0m 5ms/step - loss: 0.2591 - mae: 0.4069 - val_loss: 0.2628 - val_mae: 0.4036\n",
      "Epoch 33/50\n",
      "\u001b[1m516/516\u001b[0m \u001b[32m━━━━━━━━━━━━━━━━━━━━\u001b[0m\u001b[37m\u001b[0m \u001b[1m3s\u001b[0m 6ms/step - loss: 0.2651 - mae: 0.4116 - val_loss: 0.2504 - val_mae: 0.4010\n",
      "Epoch 34/50\n",
      "\u001b[1m516/516\u001b[0m \u001b[32m━━━━━━━━━━━━━━━━━━━━\u001b[0m\u001b[37m\u001b[0m \u001b[1m3s\u001b[0m 6ms/step - loss: 0.2644 - mae: 0.4123 - val_loss: 0.2712 - val_mae: 0.4088\n",
      "Epoch 35/50\n",
      "\u001b[1m516/516\u001b[0m \u001b[32m━━━━━━━━━━━━━━━━━━━━\u001b[0m\u001b[37m\u001b[0m \u001b[1m4s\u001b[0m 7ms/step - loss: 0.2617 - mae: 0.4106 - val_loss: 0.2536 - val_mae: 0.3987\n",
      "Epoch 36/50\n",
      "\u001b[1m516/516\u001b[0m \u001b[32m━━━━━━━━━━━━━━━━━━━━\u001b[0m\u001b[37m\u001b[0m \u001b[1m3s\u001b[0m 6ms/step - loss: 0.2735 - mae: 0.4201 - val_loss: 0.2516 - val_mae: 0.3983\n",
      "Epoch 37/50\n",
      "\u001b[1m516/516\u001b[0m \u001b[32m━━━━━━━━━━━━━━━━━━━━\u001b[0m\u001b[37m\u001b[0m \u001b[1m3s\u001b[0m 6ms/step - loss: 0.2737 - mae: 0.4187 - val_loss: 0.2660 - val_mae: 0.4188\n",
      "Epoch 38/50\n",
      "\u001b[1m516/516\u001b[0m \u001b[32m━━━━━━━━━━━━━━━━━━━━\u001b[0m\u001b[37m\u001b[0m \u001b[1m5s\u001b[0m 9ms/step - loss: 0.2706 - mae: 0.4162 - val_loss: 0.2751 - val_mae: 0.4275\n",
      "Epoch 39/50\n",
      "\u001b[1m516/516\u001b[0m \u001b[32m━━━━━━━━━━━━━━━━━━━━\u001b[0m\u001b[37m\u001b[0m \u001b[1m4s\u001b[0m 7ms/step - loss: 0.2661 - mae: 0.4132 - val_loss: 0.3185 - val_mae: 0.4418\n",
      "Epoch 40/50\n",
      "\u001b[1m516/516\u001b[0m \u001b[32m━━━━━━━━━━━━━━━━━━━━\u001b[0m\u001b[37m\u001b[0m \u001b[1m4s\u001b[0m 7ms/step - loss: 0.2728 - mae: 0.4203 - val_loss: 0.3330 - val_mae: 0.4520\n",
      "Epoch 41/50\n",
      "\u001b[1m516/516\u001b[0m \u001b[32m━━━━━━━━━━━━━━━━━━━━\u001b[0m\u001b[37m\u001b[0m \u001b[1m3s\u001b[0m 6ms/step - loss: 0.2682 - mae: 0.4140 - val_loss: 0.2521 - val_mae: 0.4037\n",
      "Epoch 42/50\n",
      "\u001b[1m516/516\u001b[0m \u001b[32m━━━━━━━━━━━━━━━━━━━━\u001b[0m\u001b[37m\u001b[0m \u001b[1m3s\u001b[0m 6ms/step - loss: 0.2589 - mae: 0.4086 - val_loss: 0.5048 - val_mae: 0.5719\n",
      "Epoch 43/50\n",
      "\u001b[1m516/516\u001b[0m \u001b[32m━━━━━━━━━━━━━━━━━━━━\u001b[0m\u001b[37m\u001b[0m \u001b[1m3s\u001b[0m 6ms/step - loss: 12.3455 - mae: 1.3814 - val_loss: 0.2612 - val_mae: 0.4139\n",
      "Epoch 44/50\n",
      "\u001b[1m516/516\u001b[0m \u001b[32m━━━━━━━━━━━━━━━━━━━━\u001b[0m\u001b[37m\u001b[0m \u001b[1m3s\u001b[0m 7ms/step - loss: 0.2663 - mae: 0.4135 - val_loss: 0.2751 - val_mae: 0.4276\n",
      "Epoch 45/50\n",
      "\u001b[1m516/516\u001b[0m \u001b[32m━━━━━━━━━━━━━━━━━━━━\u001b[0m\u001b[37m\u001b[0m \u001b[1m3s\u001b[0m 7ms/step - loss: 0.2610 - mae: 0.4098 - val_loss: 0.2863 - val_mae: 0.4378\n",
      "Epoch 46/50\n",
      "\u001b[1m516/516\u001b[0m \u001b[32m━━━━━━━━━━━━━━━━━━━━\u001b[0m\u001b[37m\u001b[0m \u001b[1m3s\u001b[0m 6ms/step - loss: 0.2544 - mae: 0.4044 - val_loss: 0.2498 - val_mae: 0.3994\n",
      "Epoch 47/50\n",
      "\u001b[1m516/516\u001b[0m \u001b[32m━━━━━━━━━━━━━━━━━━━━\u001b[0m\u001b[37m\u001b[0m \u001b[1m3s\u001b[0m 6ms/step - loss: 0.2568 - mae: 0.4067 - val_loss: 0.3094 - val_mae: 0.4353\n",
      "Epoch 48/50\n",
      "\u001b[1m516/516\u001b[0m \u001b[32m━━━━━━━━━━━━━━━━━━━━\u001b[0m\u001b[37m\u001b[0m \u001b[1m3s\u001b[0m 6ms/step - loss: 0.2592 - mae: 0.4073 - val_loss: 0.2503 - val_mae: 0.3983\n",
      "Epoch 49/50\n",
      "\u001b[1m516/516\u001b[0m \u001b[32m━━━━━━━━━━━━━━━━━━━━\u001b[0m\u001b[37m\u001b[0m \u001b[1m3s\u001b[0m 7ms/step - loss: 0.2631 - mae: 0.4112 - val_loss: 0.2516 - val_mae: 0.4031\n",
      "Epoch 50/50\n",
      "\u001b[1m516/516\u001b[0m \u001b[32m━━━━━━━━━━━━━━━━━━━━\u001b[0m\u001b[37m\u001b[0m \u001b[1m3s\u001b[0m 7ms/step - loss: 0.2680 - mae: 0.4137 - val_loss: 0.2616 - val_mae: 0.4029\n"
     ]
    }
   ],
   "source": [
    "#CNN\n",
    "history = model.fit(\n",
    "    X_train_seq, y_train_seq,\n",
    "    epochs=50, batch_size=32,\n",
    "    validation_data=(X_test_seq, y_test_seq),\n",
    "    verbose=1\n",
    ")\n"
   ]
  },
  {
   "cell_type": "code",
   "execution_count": 48,
   "id": "4f65167c",
   "metadata": {
    "execution": {
     "iopub.execute_input": "2025-02-18T15:41:51.233009Z",
     "iopub.status.busy": "2025-02-18T15:41:51.232655Z",
     "iopub.status.idle": "2025-02-18T15:41:51.962848Z",
     "shell.execute_reply": "2025-02-18T15:41:51.961470Z"
    },
    "papermill": {
     "duration": 0.968625,
     "end_time": "2025-02-18T15:41:51.964713",
     "exception": false,
     "start_time": "2025-02-18T15:41:50.996088",
     "status": "completed"
    },
    "tags": []
   },
   "outputs": [
    {
     "name": "stdout",
     "output_type": "stream",
     "text": [
      "\u001b[1m129/129\u001b[0m \u001b[32m━━━━━━━━━━━━━━━━━━━━\u001b[0m\u001b[37m\u001b[0m \u001b[1m0s\u001b[0m 3ms/step\n",
      "CNN Model MSE: 0.2615990686609504\n",
      "CNN Model RMSE: 0.5114675636449983\n",
      "CNN Model R²: -0.04753316635253402\n"
     ]
    }
   ],
   "source": [
    "# Predict the test set\n",
    "y_pred_cnn = model.predict(X_test_seq)\n",
    "\n",
    "# Calculate MSE, RMSE, R²\n",
    "mse_cnn = mean_squared_error(y_test_seq, y_pred_cnn)\n",
    "rmse_cnn = np.sqrt(mse_cnn)\n",
    "r2_cnn = r2_score(y_test_seq, y_pred_cnn)\n",
    "\n",
    "# Output results\n",
    "print(f\"CNN Model MSE: {mse_cnn}\")\n",
    "print(f\"CNN Model RMSE: {rmse_cnn}\")\n",
    "print(f\"CNN Model R²: {r2_cnn}\")\n"
   ]
  },
  {
   "cell_type": "code",
   "execution_count": 49,
   "id": "cc82ab43",
   "metadata": {
    "execution": {
     "iopub.execute_input": "2025-02-18T15:41:52.438436Z",
     "iopub.status.busy": "2025-02-18T15:41:52.438058Z",
     "iopub.status.idle": "2025-02-18T15:41:52.620980Z",
     "shell.execute_reply": "2025-02-18T15:41:52.619828Z"
    },
    "papermill": {
     "duration": 0.42041,
     "end_time": "2025-02-18T15:41:52.623037",
     "exception": false,
     "start_time": "2025-02-18T15:41:52.202627",
     "status": "completed"
    },
    "tags": []
   },
   "outputs": [
    {
     "data": {
      "image/png": "[encoded data removed]",
      "text/plain": [
       "<Figure size 640x480 with 1 Axes>"
      ]
     },
     "metadata": {},
     "output_type": "display_data"
    }
   ],
   "source": [
    "#Loss\n",
    "import matplotlib.pyplot as plt\n",
    "\n",
    "plt.plot(history.history['loss'], label='Train Loss')\n",
    "plt.plot(history.history['val_loss'], label='Validation Loss')\n",
    "plt.xlabel('Epochs')\n",
    "plt.ylabel('Loss')\n",
    "plt.legend()\n",
    "plt.show()\n"
   ]
  },
  {
   "cell_type": "markdown",
   "id": "168b494e",
   "metadata": {
    "papermill": {
     "duration": 0.297663,
     "end_time": "2025-02-18T15:41:53.156541",
     "exception": false,
     "start_time": "2025-02-18T15:41:52.858878",
     "status": "completed"
    },
    "tags": []
   },
   "source": [
    "\"\"\"\n",
    "## 5️ Model Deployment\n",
    "📌 Objective: Deploy the model using FastAPI\n",
    "\n",
    "📌 Code:\n",
    "\"\"\"\n"
   ]
  },
  {
   "cell_type": "code",
   "execution_count": 50,
   "id": "f8619c9a",
   "metadata": {
    "execution": {
     "iopub.execute_input": "2025-02-18T15:42:00.644328Z",
     "iopub.status.busy": "2025-02-18T15:42:00.643953Z",
     "iopub.status.idle": "2025-02-18T15:42:00.659920Z",
     "shell.execute_reply": "2025-02-18T15:42:00.657714Z"
    },
    "papermill": {
     "duration": 0.251124,
     "end_time": "2025-02-18T15:42:00.662033",
     "exception": false,
     "start_time": "2025-02-18T15:42:00.410909",
     "status": "completed"
    },
    "tags": []
   },
   "outputs": [
    {
     "data": {
      "text/plain": [
       "['xgboost_rul_model.pkl']"
      ]
     },
     "execution_count": 50,
     "metadata": {},
     "output_type": "execute_result"
    }
   ],
   "source": [
    "import joblib\n",
    "\n",
    "\n",
    "joblib.dump(best_xgb, \"xgboost_rul_model.pkl\")\n"
   ]
  },
  {
   "cell_type": "code",
   "execution_count": 51,
   "id": "44ed01c3",
   "metadata": {
    "execution": {
     "iopub.execute_input": "2025-02-18T15:42:01.198907Z",
     "iopub.status.busy": "2025-02-18T15:42:01.198473Z",
     "iopub.status.idle": "2025-02-18T15:42:01.203664Z",
     "shell.execute_reply": "2025-02-18T15:42:01.202353Z"
    },
    "papermill": {
     "duration": 0.307667,
     "end_time": "2025-02-18T15:42:01.205449",
     "exception": false,
     "start_time": "2025-02-18T15:42:00.897782",
     "status": "completed"
    },
    "tags": []
   },
   "outputs": [
    {
     "name": "stdout",
     "output_type": "stream",
     "text": [
      "(16504, 38)\n"
     ]
    }
   ],
   "source": [
    "print(X_train.shape) \n"
   ]
  },
  {
   "cell_type": "code",
   "execution_count": 52,
   "id": "33d5f23c",
   "metadata": {
    "execution": {
     "iopub.execute_input": "2025-02-18T15:42:01.673372Z",
     "iopub.status.busy": "2025-02-18T15:42:01.672995Z",
     "iopub.status.idle": "2025-02-18T15:42:01.681192Z",
     "shell.execute_reply": "2025-02-18T15:42:01.679769Z"
    },
    "papermill": {
     "duration": 0.241718,
     "end_time": "2025-02-18T15:42:01.682910",
     "exception": false,
     "start_time": "2025-02-18T15:42:01.441192",
     "status": "completed"
    },
    "tags": []
   },
   "outputs": [
    {
     "name": "stdout",
     "output_type": "stream",
     "text": [
      "[[ 5.00540443e-02 -3.01518345e-01 -1.77635684e-15  1.41683329e-01\n",
      "  -5.17146434e-01  8.92434560e-01 -5.23175463e-01  0.00000000e+00\n",
      "  -4.16233936e-01  1.57999142e-01  1.92549393e-01 -5.57395771e-01\n",
      "  -2.86517303e-01 -1.38777878e-17  5.09674655e-01  0.00000000e+00\n",
      "   0.00000000e+00  2.97270835e-01  3.72242865e-01  1.59223800e+03\n",
      "   1.40968800e+03  1.46200000e+01  2.16100000e+01  5.53136000e+02\n",
      "   2.38813600e+03  9.05171000e+03  1.30000000e+00  4.74460000e+01\n",
      "   5.21380000e+02  2.38811600e+03  8.13085200e+03  8.43898000e+00\n",
      "   3.00000000e-02  3.93400000e+02  2.38800000e+03  1.00000000e+02\n",
      "   3.88080000e+01  2.33112800e+01]\n",
      " [ 5.27953173e-01 -4.48178711e-01 -1.77635684e-15  1.41683329e-01\n",
      "   1.05334938e+00 -1.22072489e+00  6.10762113e-01  0.00000000e+00\n",
      "  -4.53675772e-01  1.82571544e+00 -9.19841389e-01  5.83321709e-01\n",
      "  -1.63570208e+00 -1.38777878e-17 -2.07309423e+00  0.00000000e+00\n",
      "   0.00000000e+00  1.31288428e-01  3.41757384e-01  1.58768200e+03\n",
      "   1.39916600e+03  1.46200000e+01  2.16100000e+01  5.54118000e+02\n",
      "   2.38802600e+03  9.07618400e+03  1.30000000e+00  4.72680000e+01\n",
      "   5.22252000e+02  2.38803400e+03  8.15444400e+03  8.40440000e+00\n",
      "   3.00000000e-02  3.92200000e+02  2.38800000e+03  1.00000000e+02\n",
      "   3.89580000e+01  2.33619800e+01]\n",
      " [-1.82239715e+00 -7.51499014e-01 -1.77635684e-15  1.41683329e-01\n",
      "  -6.52051913e-02 -1.07984759e+00 -7.91262941e-01  0.00000000e+00\n",
      "  -1.38972165e+00  5.37641876e-01  1.92549393e-01 -2.79031349e-01\n",
      "  -9.77107931e-01 -1.38777878e-17 -1.36017565e-01  0.00000000e+00\n",
      "   0.00000000e+00  9.61200462e-01 -1.69105373e-01  1.58740400e+03\n",
      "   1.40258800e+03  1.46200000e+01  2.16100000e+01  5.53988000e+02\n",
      "   2.38804400e+03  9.05660800e+03  1.30000000e+00  4.73400000e+01\n",
      "   5.22132000e+02  2.38806200e+03  8.13851600e+03  8.40430000e+00\n",
      "   3.00000000e-02  3.92600000e+02  2.38800000e+03  1.00000000e+02\n",
      "   3.89160000e+01  2.33823800e+01]\n",
      " [-1.28904215e+00 -4.42623394e-01 -1.77635684e-15  1.41683329e-01\n",
      "   1.04205085e+00 -9.38970296e-01 -3.51092285e-01  0.00000000e+00\n",
      "  -7.90652288e-01  1.06642997e+00 -1.33698793e+00  3.52688681e-03\n",
      "  -5.55820984e-01 -1.38777878e-17 -7.81709786e-01  0.00000000e+00\n",
      "   0.00000000e+00  5.73908179e-01  1.37456853e+00  1.58355200e+03\n",
      "   1.40079800e+03  1.46200000e+01  2.16100000e+01  5.54398000e+02\n",
      "   2.38803000e+03  9.06040400e+03  1.30000000e+00  4.72060000e+01\n",
      "   5.22366000e+02  2.38802400e+03  8.14107000e+03  8.41300000e+00\n",
      "   3.00000000e-02  3.92200000e+02  2.38800000e+03  1.00000000e+02\n",
      "   3.90320000e+01  2.34357000e+01]\n",
      " [-5.30601552e-01 -4.14846810e-01 -1.77635684e-15  1.41683329e-01\n",
      "  -4.15459654e-01  1.03331186e+00 -8.31113782e-01  0.00000000e+00\n",
      "  -4.37374935e-03  9.02057970e-02  8.87793632e-01 -7.26721022e-01\n",
      "  -4.97160776e-01 -1.38777878e-17 -1.36017565e-01  0.00000000e+00\n",
      "   0.00000000e+00 -2.56003854e-01 -1.99590854e-01  1.59009800e+03\n",
      "   1.40946200e+03  1.46200000e+01  2.16100000e+01  5.53324000e+02\n",
      "   2.38814800e+03  9.04546800e+03  1.30000000e+00  4.75700000e+01\n",
      "   5.21292000e+02  2.38813200e+03  8.12922600e+03  8.44072000e+00\n",
      "   3.00000000e-02  3.93000000e+02  2.38800000e+03  1.00000000e+02\n",
      "   3.88080000e+01  2.32882600e+01]]\n"
     ]
    }
   ],
   "source": [
    "print(X_train[:5]) \n"
   ]
  },
  {
   "cell_type": "code",
   "execution_count": 53,
   "id": "1bc33097",
   "metadata": {
    "execution": {
     "iopub.execute_input": "2025-02-18T15:42:02.154299Z",
     "iopub.status.busy": "2025-02-18T15:42:02.153957Z",
     "iopub.status.idle": "2025-02-18T15:42:02.885503Z",
     "shell.execute_reply": "2025-02-18T15:42:02.884653Z"
    },
    "papermill": {
     "duration": 0.970308,
     "end_time": "2025-02-18T15:42:02.887579",
     "exception": false,
     "start_time": "2025-02-18T15:42:01.917271",
     "status": "completed"
    },
    "tags": []
   },
   "outputs": [
    {
     "name": "stdout",
     "output_type": "stream",
     "text": [
      "✅ XGBoost model successfully loaded\n"
     ]
    }
   ],
   "source": [
    "from fastapi import FastAPI\n",
    "import joblib\n",
    "import numpy as np\n",
    "from pydantic import BaseModel\n",
    "\n",
    "# Initialize FastAPI application\n",
    "app = FastAPI()\n",
    "\n",
    "# Load the pre-trained XGBoost model\n",
    "try:\n",
    "    model = joblib.load(\"xgboost_rul_model.pkl\")\n",
    "    print(\"✅ XGBoost model successfully loaded\")\n",
    "except Exception as e:\n",
    "    print(f\"❌ Failed to load model: {e}\")\n",
    "\n",
    "# Define input data format\n",
    "class RULInput(BaseModel):\n",
    "    features: list[float]  # Input feature data (must match the training format)\n",
    "\n",
    "# Define API route\n",
    "@app.post(\"/predict/\")\n",
    "async def predict_rul(data: RULInput):\n",
    "    try:\n",
    "        # Check the length of the input data\n",
    "        if len(data.features) != 38:\n",
    "            return {\"error\": \"Incorrect number of input features. Expected 38 values.\"}\n",
    "            \n",
    "        # Convert input data to a NumPy array\n",
    "        input_data = np.array(data.features).reshape(1, -1)\n",
    "        \n",
    "        # Make prediction\n",
    "        prediction = model.predict(input_data)[0]\n",
    "        \n",
    "        return {\"predicted_RUL\": prediction}\n",
    "    except Exception as e:\n",
    "        return {\"error\": str(e)}\n"
   ]
  },
  {
   "cell_type": "code",
   "execution_count": null,
   "id": "3876fa0b",
   "metadata": {},
   "outputs": [],
   "source": []
  }
 ],
 "metadata": {
  "kaggle": {
   "accelerator": "none",
   "dataSources": [
    {
     "datasetId": 276801,
     "sourceId": 572434,
     "sourceType": "datasetVersion"
    },
    {
     "datasetId": 1845609,
     "sourceId": 3013113,
     "sourceType": "datasetVersion"
    }
   ],
   "dockerImageVersionId": 30886,
   "isGpuEnabled": false,
   "isInternetEnabled": true,
   "language": "python",
   "sourceType": "notebook"
  },
  "kernelspec": {
   "display_name": "base",
   "language": "python",
   "name": "python3"
  },
  "language_info": {
   "codemirror_mode": {
    "name": "ipython",
    "version": 3
   },
   "file_extension": ".py",
   "mimetype": "text/x-python",
   "name": "python",
   "nbconvert_exporter": "python",
   "pygments_lexer": "ipython3",
   "version": "3.12.7"
  },
  "papermill": {
   "default_parameters": {},
   "duration": 358.974144,
   "end_time": "2025-02-18T15:42:06.121024",
   "environment_variables": {},
   "exception": null,
   "input_path": "__notebook__.ipynb",
   "output_path": "__notebook__.ipynb",
   "parameters": {},
   "start_time": "2025-02-18T15:36:07.146880",
   "version": "2.6.0"
  }
 },
 "nbformat": 4,
 "nbformat_minor": 5
}
